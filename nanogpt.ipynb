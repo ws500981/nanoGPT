{
 "cells": [
  {
   "cell_type": "code",
   "execution_count": 2,
   "metadata": {},
   "outputs": [],
   "source": [
    "# !pip install torch numpy transformers datasets tiktoken wandb tqdm"
   ]
  },
  {
   "cell_type": "code",
   "execution_count": 3,
   "metadata": {},
   "outputs": [
    {
     "name": "stdout",
     "output_type": "stream",
     "text": [
      "Total number of characters = 1115394\n",
      "Total number of unique characters = 65\n",
      "Characters = \n",
      " !$&',-.3:;?ABCDEFGHIJKLMNOPQRSTUVWXYZabcdefghijklmnopqrstuvwxyz\n"
     ]
    }
   ],
   "source": [
    "# Loading training text data\n",
    "with open(\"nanogpt/input.txt\", \"r\", encoding='utf-8') as f:\n",
    "    text = f.read()\n",
    "print(f'Total number of characters = {len(text)}')\n",
    "chars = sorted(list(set(text)))\n",
    "vocab_size = len(chars)\n",
    "print(f'Total number of unique characters = {vocab_size}')\n",
    "print(f\"Characters = {''.join(chars)}\")"
   ]
  },
  {
   "cell_type": "code",
   "execution_count": 4,
   "metadata": {},
   "outputs": [],
   "source": [
    "# simple tokenizer 1\n",
    "stoi = {ch: i for i, ch in enumerate(chars)}\n",
    "itos = {i: ch for i, ch in enumerate(chars)}\n",
    "encoder1 = lambda x: [stoi[ch] for ch in x]\n",
    "decoder1 = lambda x: ''.join([itos[i] for i in x])"
   ]
  },
  {
   "cell_type": "code",
   "execution_count": 5,
   "metadata": {},
   "outputs": [
    {
     "name": "stdout",
     "output_type": "stream",
     "text": [
      "[46, 43, 50, 50, 53]\n",
      "hello\n"
     ]
    }
   ],
   "source": [
    "print(encoder1('hello'))\n",
    "print(decoder1(encoder1('hello')))"
   ]
  },
  {
   "cell_type": "code",
   "execution_count": 6,
   "metadata": {},
   "outputs": [],
   "source": [
    "# !pip install sentencepiece"
   ]
  },
  {
   "cell_type": "code",
   "execution_count": 8,
   "metadata": {},
   "outputs": [
    {
     "data": {
      "text/plain": [
       "True"
      ]
     },
     "execution_count": 8,
     "metadata": {},
     "output_type": "execute_result"
    }
   ],
   "source": [
    "# sentencepiece tokenizer 2\n",
    "import sentencepiece as spm\n",
    "params = ('--input=input.txt ' '--model_prefix=spm ' '--vocab_size=1000 ')\n",
    "spm.SentencePieceTrainer.Train(params)\n",
    "sp = spm.SentencePieceProcessor()\n",
    "sp.Load('spm.model')\n",
    "\n"
   ]
  },
  {
   "cell_type": "code",
   "execution_count": 22,
   "metadata": {},
   "outputs": [
    {
     "name": "stdout",
     "output_type": "stream",
     "text": [
      "['▁He', 'll', 'o', '▁world', '.']\n",
      "[184, 65, 25, 427, 7]\n",
      "ter Toaaking:\n"
     ]
    }
   ],
   "source": [
    "print(sp.EncodeAsPieces('Hello world.'))\n",
    "print(sp.EncodeAsIds('Hello world.'))\n",
    "print(sp.DecodeIds([151, 88, 21, 887, 6]))"
   ]
  },
  {
   "cell_type": "code",
   "execution_count": 10,
   "metadata": {},
   "outputs": [],
   "source": [
    "# !pip install tiktoken"
   ]
  },
  {
   "cell_type": "code",
   "execution_count": 14,
   "metadata": {},
   "outputs": [
    {
     "data": {
      "text/plain": [
       "100277"
      ]
     },
     "execution_count": 14,
     "metadata": {},
     "output_type": "execute_result"
    }
   ],
   "source": [
    "# tiktoken tokenizer 3\n",
    "import tiktoken\n",
    "enc = tiktoken.get_encoding(\"cl100k_base\")\n",
    "enc.n_vocab"
   ]
  },
  {
   "cell_type": "code",
   "execution_count": 15,
   "metadata": {},
   "outputs": [
    {
     "name": "stdout",
     "output_type": "stream",
     "text": [
      "[15339, 1917]\n",
      "hello world\n"
     ]
    }
   ],
   "source": [
    "print(enc.encode(\"hello world\"))\n",
    "print(enc.decode(enc.encode(\"hello world\")))\n"
   ]
  },
  {
   "cell_type": "code",
   "execution_count": 16,
   "metadata": {},
   "outputs": [
    {
     "name": "stdout",
     "output_type": "stream",
     "text": [
      "[46, 43, 50, 50, 53]\n",
      "hello\n",
      "[184, 65, 25, 427, 7]\n",
      "ter Toaaking:\n",
      "[15339, 1917]\n",
      "hello world\n"
     ]
    }
   ],
   "source": [
    "# tokenizer 1\n",
    "print(encoder1('hello'))\n",
    "print(decoder1(encoder1('hello')))\n",
    "\n",
    "# tokenizer 2\n",
    "print(sp.EncodeAsIds('Hello world.'))\n",
    "print(sp.DecodeIds([151, 88, 21, 887, 6]))\n",
    "\n",
    "# tokenizer 3\n",
    "print(enc.encode(\"hello world\"))\n",
    "print(enc.decode(enc.encode(\"hello world\")))"
   ]
  },
  {
   "cell_type": "code",
   "execution_count": 22,
   "metadata": {},
   "outputs": [
    {
     "name": "stdout",
     "output_type": "stream",
     "text": [
      "Using simple tokenizer, there are 1115394 tokens, \n",
      " Using sentencepiece tokenizer, there are 407344 tokens, \n",
      " Using tiktoken tokenizer, there are 301829 tokens\n",
      "Simple tokenizer: tensor([18, 47, 56, 57, 58,  1, 15, 47, 58, 47, 64, 43, 52, 10,  0, 14, 43, 44,\n",
      "        53, 56, 43,  1, 61, 43,  1, 54, 56, 53, 41, 43, 43, 42,  1, 39, 52, 63,\n",
      "         1, 44, 59, 56, 58, 46, 43, 56,  6,  1, 46, 43, 39, 56]) \n",
      " First Citizen:\n",
      "Before we proceed any further, hear\n",
      "Sentencepiece tokenizer: tensor([298, 537,   6, 259, 280,  12,  81, 231, 107,  35, 384, 987,   3, 223,\n",
      "         33, 254,   7,  52,  65,   6,  78, 358,  21,  73,   3, 254,   7, 298,\n",
      "        537,   6, 205, 106,  91, 115,   5, 201, 167,   8, 752,  14, 414, 216,\n",
      "         14,  50, 190, 321,  26,  52,  65,   6]) \n",
      " First Citizen: Before we proceed any further, hear me speak. All: Speak, speak. First Citizen: You are all resolved rather to die than to famish? All:\n",
      "Tiktoken tokenizer: tensor([ 5451, 47317,   512, 10438,   584, 10570,   904,  4726,    11,  6865,\n",
      "          757,  6604,   382,  2460,   512, 96945,    11,  6604,   382,  5451,\n",
      "        47317,   512,  2675,   527,   682, 20250,  4856,   311,  2815,  1109,\n",
      "          311,  2138,   819,  1980,  2460,   512, 66494,    13, 20250,   382,\n",
      "         5451, 47317,   512,  5451,    11,   499,  1440,   356,  2192,   355]) \n",
      " First Citizen:\n",
      "Before we proceed any further, hear me speak.\n",
      "\n",
      "All:\n",
      "Speak, speak.\n",
      "\n",
      "First Citizen:\n",
      "You are all resolved rather to die than to famish?\n",
      "\n",
      "All:\n",
      "Resolved. resolved.\n",
      "\n",
      "First Citizen:\n",
      "First, you know Caius\n"
     ]
    }
   ],
   "source": [
    "import torch\n",
    "data1 = torch.tensor(encoder1(text),dtype=torch.long)\n",
    "data2 = torch.tensor(sp.EncodeAsIds(text),dtype=torch.long)\n",
    "data3 = torch.tensor(enc.encode(text),dtype=torch.long)\n",
    "print(f'Using simple tokenizer, there are {data1.shape[0]} tokens, \\n Using sentencepiece tokenizer, there are {data2.shape[0]} tokens, \\n Using tiktoken tokenizer, there are {data3.shape[0]} tokens')\n",
    "print(f'Simple tokenizer: {data1[:50]} \\n {decoder1(data1[:50].tolist())}')\n",
    "print(f'Sentencepiece tokenizer: {data2[:50]} \\n {sp.DecodeIds(data2[:50].tolist())}')\n",
    "print(f'Tiktoken tokenizer: {data3[:50]} \\n {enc.decode(data3[:50].tolist())}')"
   ]
  },
  {
   "cell_type": "code",
   "execution_count": 28,
   "metadata": {},
   "outputs": [],
   "source": [
    "# train-test split\n",
    "data = data1 # choose tokenizer\n",
    "encoder = encoder1\n",
    "decoder = decoder1\n",
    "#data = data2\n",
    "#encoder = sp.EncodeAsIds\n",
    "#decoder = sp.DecodeIds\n",
    "\n",
    "#data = data3\n",
    "#encoder = enc.encode\n",
    "#decoder = enc.decode\n",
    "\n",
    "n = int(0.8*len(data)) # train ratio\n",
    "train_data = data[:n]\n",
    "val_data = data[n:]"
   ]
  },
  {
   "cell_type": "code",
   "execution_count": 29,
   "metadata": {},
   "outputs": [
    {
     "name": "stdout",
     "output_type": "stream",
     "text": [
      "context = tensor([18]), target = 47\n",
      "        = F,        = i\n",
      "context = tensor([18, 47]), target = 56\n",
      "        = Fi,        = r\n",
      "context = tensor([18, 47, 56]), target = 57\n",
      "        = Fir,        = s\n",
      "context = tensor([18, 47, 56, 57]), target = 58\n",
      "        = Firs,        = t\n",
      "context = tensor([18, 47, 56, 57, 58]), target = 1\n",
      "        = First,        =  \n",
      "context = tensor([18, 47, 56, 57, 58,  1]), target = 15\n",
      "        = First ,        = C\n",
      "context = tensor([18, 47, 56, 57, 58,  1, 15]), target = 47\n",
      "        = First C,        = i\n",
      "context = tensor([18, 47, 56, 57, 58,  1, 15, 47]), target = 58\n",
      "        = First Ci,        = t\n"
     ]
    }
   ],
   "source": [
    "block_size = 8\n",
    "# one example of input-target pair\n",
    "x = train_data[:block_size]\n",
    "y = train_data[1:block_size+1]\n",
    "for t in range(block_size):\n",
    "    context = x[:t+1]\n",
    "    target = y[t]\n",
    "    print(f'context = {context}, target = {target}')\n",
    "    print(f'        = {decoder(context.tolist())},        = {decoder([target.tolist()])}')"
   ]
  },
  {
   "cell_type": "code",
   "execution_count": 37,
   "metadata": {},
   "outputs": [],
   "source": [
    "torch.manual_seed(1337)\n",
    "batch_size = 4\n",
    "block_size = 8\n",
    "device = torch.device(\"cuda\" if torch.cuda.is_available() else \"cpu\")\n",
    "\n",
    "def get_batch(split, batch_size=batch_size, block_size=block_size):\n",
    "    if split == 'train':\n",
    "        data = train_data\n",
    "    else:\n",
    "        data = val_data\n",
    "    idx = torch.randint(0, data.size(0) - block_size, (batch_size,))\n",
    "    x = torch.stack([data[i:i+block_size] for i in idx])\n",
    "    y = torch.stack([data[i+1:i+block_size+1] for i in idx])\n",
    "    x = x.to(device)\n",
    "    y = y.to(device)\n",
    "    return x, y"
   ]
  },
  {
   "cell_type": "code",
   "execution_count": 31,
   "metadata": {},
   "outputs": [
    {
     "name": "stdout",
     "output_type": "stream",
     "text": [
      "inputs:\n",
      "torch.Size([4, 8])\n",
      "tensor([[58, 63,  8,  0,  0, 19, 24, 27],\n",
      "        [39, 59, 45, 46, 58,  1, 46, 43],\n",
      "        [49, 43, 57,  1, 53, 50, 42,  1],\n",
      "        [52, 41, 47, 43, 52, 58,  1, 56]])\n",
      "targets:\n",
      "torch.Size([4, 8])\n",
      "tensor([[63,  8,  0,  0, 19, 24, 27, 33],\n",
      "        [59, 45, 46, 58,  1, 46, 43,  1],\n",
      "        [43, 57,  1, 53, 50, 42,  1, 46],\n",
      "        [41, 47, 43, 52, 58,  1, 56, 47]])\n",
      "----\n",
      "when input is [58] the target: 63\n",
      "when input is [58, 63] the target: 8\n",
      "when input is [58, 63, 8] the target: 0\n",
      "when input is [58, 63, 8, 0] the target: 0\n",
      "when input is [58, 63, 8, 0, 0] the target: 19\n",
      "when input is [58, 63, 8, 0, 0, 19] the target: 24\n",
      "when input is [58, 63, 8, 0, 0, 19, 24] the target: 27\n",
      "when input is [58, 63, 8, 0, 0, 19, 24, 27] the target: 33\n",
      "when input is [39] the target: 59\n",
      "when input is [39, 59] the target: 45\n",
      "when input is [39, 59, 45] the target: 46\n",
      "when input is [39, 59, 45, 46] the target: 58\n",
      "when input is [39, 59, 45, 46, 58] the target: 1\n",
      "when input is [39, 59, 45, 46, 58, 1] the target: 46\n",
      "when input is [39, 59, 45, 46, 58, 1, 46] the target: 43\n",
      "when input is [39, 59, 45, 46, 58, 1, 46, 43] the target: 1\n",
      "when input is [49] the target: 43\n",
      "when input is [49, 43] the target: 57\n",
      "when input is [49, 43, 57] the target: 1\n",
      "when input is [49, 43, 57, 1] the target: 53\n",
      "when input is [49, 43, 57, 1, 53] the target: 50\n",
      "when input is [49, 43, 57, 1, 53, 50] the target: 42\n",
      "when input is [49, 43, 57, 1, 53, 50, 42] the target: 1\n",
      "when input is [49, 43, 57, 1, 53, 50, 42, 1] the target: 46\n",
      "when input is [52] the target: 41\n",
      "when input is [52, 41] the target: 47\n",
      "when input is [52, 41, 47] the target: 43\n",
      "when input is [52, 41, 47, 43] the target: 52\n",
      "when input is [52, 41, 47, 43, 52] the target: 58\n",
      "when input is [52, 41, 47, 43, 52, 58] the target: 1\n",
      "when input is [52, 41, 47, 43, 52, 58, 1] the target: 56\n",
      "when input is [52, 41, 47, 43, 52, 58, 1, 56] the target: 47\n"
     ]
    }
   ],
   "source": [
    "xb, yb = get_batch('train')\n",
    "print('inputs:')\n",
    "print(xb.shape)\n",
    "print(xb) # our input to the transformer\n",
    "print('targets:')\n",
    "print(yb.shape)\n",
    "print(yb)\n",
    "\n",
    "print('----')\n",
    "# for each batch, there are 8 tokens in the input and target, but actually this contains 8 examples, corresponding to 8 different time steps, each with a target token that is shifted one position to the right\n",
    "for b in range(batch_size): # batch dimension\n",
    "    for t in range(block_size): # time dimension\n",
    "        context = xb[b, :t+1]\n",
    "        target = yb[b,t]\n",
    "        print(f\"when input is {context.tolist()} the target: {target}\")"
   ]
  },
  {
   "cell_type": "code",
   "execution_count": 32,
   "metadata": {},
   "outputs": [
    {
     "name": "stdout",
     "output_type": "stream",
     "text": [
      "torch.Size([32, 65])\n",
      "tensor(5.0493, grad_fn=<NllLossBackward0>)\n",
      "\n",
      "Sr?qP-QWktXoL&jLDJgOLVz'RIoDqHdhsV&vLLxatjscMpwLERSPyao.qfzs$Ys$zF-w,;eEkzxjgCKFChs!iWW.ObzDnxA Ms$3\n"
     ]
    }
   ],
   "source": [
    "import torch.nn as nn\n",
    "from torch.nn import functional as F\n",
    "torch.manual_seed(1337)\n",
    "\n",
    "class BigramLanguageModel(nn.Module):\n",
    "\n",
    "    def __init__(self, vocab_size):\n",
    "        super().__init__()\n",
    "        # each token directly reads off the logits for the next token from a lookup table\n",
    "        self.token_embedding_table = nn.Embedding(vocab_size, vocab_size)\n",
    "\n",
    "    def forward(self, idx, targets=None):\n",
    "\n",
    "        # idx and targets are both (B,T) tensor of integers\n",
    "        # this is the embedded representation of the input, where idx is the input xb tensor\n",
    "        logits = self.token_embedding_table(idx) # (B,T,C), C = vocab_size = number of classes\n",
    "\n",
    "        if targets is None:\n",
    "            loss = None\n",
    "        else:\n",
    "            B, T, C = logits.shape\n",
    "            logits = logits.view(B*T, C) # reshape due to cross-entropy\n",
    "            targets = targets.view(B*T) # reshape due to cross-entropy\n",
    "            loss = F.cross_entropy(logits, targets)\n",
    "\n",
    "        return logits, loss\n",
    "\n",
    "    def generate(self, idx, max_new_tokens): # to generate new tokens\n",
    "        # idx is (B, T) array of indices in the current context\n",
    "        for _ in range(max_new_tokens): # max_new_tokens is the maximum number of tokens to generate\n",
    "            # get the predictions\n",
    "            logits, _ = self(idx) # loss is none here\n",
    "            # focus only on the last time step\n",
    "            logits = logits[:, -1, :] # becomes (B, C)\n",
    "            # apply softmax to get probabilities for each class\n",
    "            probs = F.softmax(logits, dim=-1) # (B, C)\n",
    "            # sample from the distribution using the probabilities\n",
    "            idx_next = torch.multinomial(probs, num_samples=1) # (B, 1)\n",
    "            # append sampled index to the running sequence\n",
    "            idx = torch.cat((idx, idx_next), dim=1) # (B, T+1)\n",
    "        return idx\n",
    "\n",
    "m = BigramLanguageModel(vocab_size)\n",
    "logits, loss = m(xb, yb)\n",
    "print(logits.shape)\n",
    "print(loss) # before training\n",
    "\n",
    "# example training sample (B, 1)\n",
    "example_x = torch.zeros((batch_size, 1), dtype=torch.long)\n",
    "\n",
    "print(decoder(m.generate(idx = example_x, max_new_tokens=100)[0].tolist()))\n"
   ]
  },
  {
   "cell_type": "code",
   "execution_count": 33,
   "metadata": {},
   "outputs": [],
   "source": [
    "optimizer = torch.optim.AdamW(m.parameters(), lr=0.001)"
   ]
  },
  {
   "cell_type": "code",
   "execution_count": 34,
   "metadata": {},
   "outputs": [
    {
     "name": "stdout",
     "output_type": "stream",
     "text": [
      "2.496304988861084\n"
     ]
    }
   ],
   "source": [
    "# dummy training\n",
    "for steps in range(10000):\n",
    "    xb, yb = get_batch('train', batch_size = 32, block_size = 8)\n",
    "\n",
    "    # evaluate the loss\n",
    "    logits, loss = m(xb, yb)\n",
    "    optimizer.zero_grad(set_to_none=True)\n",
    "    loss.backward()\n",
    "    optimizer.step()\n",
    "    \n",
    "print(loss.item())"
   ]
  },
  {
   "cell_type": "code",
   "execution_count": 35,
   "metadata": {},
   "outputs": [
    {
     "name": "stdout",
     "output_type": "stream",
     "text": [
      "\n",
      "Iyoteng h hasbe pan hatrance\n",
      "Rie hicomyonthar's\n",
      "PAS:\n",
      "AKI tith henouratucenonthioneir thondy, y helti\n"
     ]
    }
   ],
   "source": [
    "# check the generated text after dummy training\n",
    "example_x = torch.zeros((batch_size, 1), dtype=torch.long)\n",
    "print(decoder(m.generate(idx = example_x, max_new_tokens=100)[0].tolist()))"
   ]
  },
  {
   "cell_type": "code",
   "execution_count": 39,
   "metadata": {},
   "outputs": [],
   "source": [
    "# bigram model training\n",
    "batch_size = 32\n",
    "block_size = 8\n",
    "\n",
    "eval_interval = 300\n",
    "eval_iters = 200\n",
    "max_iters = 3000\n",
    "learning_rate = 1e-2\n",
    "torch.manual_seed(1337)\n",
    "\n",
    "model = BigramLanguageModel(vocab_size)\n",
    "m = model.to(device)\n",
    "optimizer = torch.optim.AdamW(m.parameters(), lr=learning_rate)"
   ]
  },
  {
   "cell_type": "code",
   "execution_count": 40,
   "metadata": {},
   "outputs": [],
   "source": [
    "@torch.no_grad()\n",
    "def estimate_loss():\n",
    "    out = {}\n",
    "    model.eval()\n",
    "    for split in ['train', 'val']:\n",
    "        losses = torch.zeros(eval_iters)\n",
    "        for k in range(eval_iters):\n",
    "            xb, yb = get_batch(split, batch_size, block_size)\n",
    "            _, loss = model(xb, yb)\n",
    "            losses[k] = loss.item()\n",
    "        out[split] = losses.mean()\n",
    "    model.train()\n",
    "    return out"
   ]
  },
  {
   "cell_type": "code",
   "execution_count": 41,
   "metadata": {},
   "outputs": [
    {
     "name": "stdout",
     "output_type": "stream",
     "text": [
      "Iter 0, train loss = 4.7243, val loss = 4.7238\n",
      "Iter 300, train loss = 2.8116, val loss = 2.8319\n",
      "Iter 600, train loss = 2.5405, val loss = 2.5718\n",
      "Iter 900, train loss = 2.4952, val loss = 2.5389\n",
      "Iter 1200, train loss = 2.4720, val loss = 2.5148\n",
      "Iter 1500, train loss = 2.4692, val loss = 2.5065\n",
      "Iter 1800, train loss = 2.4680, val loss = 2.5060\n",
      "Iter 2100, train loss = 2.4644, val loss = 2.5072\n",
      "Iter 2400, train loss = 2.4501, val loss = 2.5112\n",
      "Iter 2700, train loss = 2.4540, val loss = 2.5090\n",
      "\n",
      "od nos CAy go ghanoray t, co haringoudre h lethe k,LARof fr werar,\n",
      "Is fa!\n",
      "\n",
      "\n",
      "Thilemeincou. p mboomyor\n"
     ]
    }
   ],
   "source": [
    "for iter in range(max_iters):\n",
    "    if iter % eval_interval == 0:\n",
    "        losses = estimate_loss()\n",
    "        print(f'Iter {iter}, train loss = {losses[\"train\"]:.4f}, val loss = {losses[\"val\"]:.4f}')\n",
    "\n",
    "    xb, yb = get_batch('train', batch_size, block_size)\n",
    "    logits, loss = m(xb, yb)\n",
    "    optimizer.zero_grad(set_to_none=True) # If the user requests zero_grad(set_to_none=True) followed by a backward pass, .grads are guaranteed to be None for params that did not receive a gradient. \n",
    "    loss.backward()\n",
    "    optimizer.step()\n",
    "\n",
    "# check the generated text after training\n",
    "example_x = torch.zeros((1, 1), dtype=torch.long, device = device)\n",
    "print(decoder(m.generate(idx = example_x, max_new_tokens=100)[0].tolist()))"
   ]
  },
  {
   "cell_type": "code",
   "execution_count": 63,
   "metadata": {},
   "outputs": [
    {
     "name": "stdout",
     "output_type": "stream",
     "text": [
      "x[0] = tensor([[0.0783, 0.4956],\n",
      "        [0.6231, 0.4224],\n",
      "        [0.2004, 0.0287],\n",
      "        [0.5851, 0.6967],\n",
      "        [0.1761, 0.2595],\n",
      "        [0.7086, 0.5809],\n",
      "        [0.0574, 0.7669],\n",
      "        [0.8778, 0.2434]]), \n",
      "xbow[0] = tensor([[0.0783, 0.4956],\n",
      "        [0.3507, 0.4590],\n",
      "        [0.3006, 0.3156],\n",
      "        [0.3717, 0.4108],\n",
      "        [0.3326, 0.3806],\n",
      "        [0.3953, 0.4140],\n",
      "        [0.3470, 0.4644],\n",
      "        [0.4134, 0.4368]])\n",
      "a = tensor([[1.0000, 0.0000, 0.0000],\n",
      "        [0.5000, 0.5000, 0.0000],\n",
      "        [0.3333, 0.3333, 0.3333]]), \n",
      "b = tensor([[5., 7.],\n",
      "        [2., 0.],\n",
      "        [5., 3.]]), \n",
      "c = tensor([[5.0000, 7.0000],\n",
      "        [3.5000, 3.5000],\n",
      "        [4.0000, 3.3333]])\n",
      "True\n",
      "True\n"
     ]
    }
   ],
   "source": [
    "# Self-attention\n",
    "# the matrix trick\n",
    "# we want to aggregate the information in the context seen so far: e.g. for each example with 8 tokens, we want to compute aggr(1st token), aggr(1st, 2nd token), aggr(1st, 2nd, 3rd token), etc.\n",
    "\n",
    "# 1. the manual way\n",
    "torch.manual_seed(1337)\n",
    "B,T,C = 4,8,2\n",
    "x = torch.rand(B,T,C)\n",
    "# we want to use average function as aggr()\n",
    "xbow1 = torch.zeros(B,T,C)\n",
    "xbow2 = torch.zeros(B,T,C)\n",
    "xbow3 = torch.zeros(B,T,C)\n",
    "for b in range(B):\n",
    "    for t in range(T):\n",
    "        context = x[b,:t+1] # (T,C)\n",
    "        xbow1[b,t] = torch.mean(context,0) # (C,)\n",
    "print(f'x[0] = {x[0]}, \\nxbow[0] = {xbow[0]}')\n",
    "\n",
    "# 2. the matrix way\n",
    "torch.manual_seed(1337)\n",
    "a = torch.tril(torch.ones(3,3)) # using a smaller T for illustration, a is used as weights\n",
    "a = a / torch.sum(a, 1, keepdim=True) # normalize the weights\n",
    "b = torch.randint(0,10,(3,2)).float()\n",
    "c = a @ b\n",
    "print(f'a = {a}, \\nb = {b}, \\nc = {c}')\n",
    "\n",
    "wei = torch.tril(torch.ones(T,T)) # (T,T)\n",
    "wei = wei / torch.sum(wei, 1, keepdim=True)\n",
    "xbow2 = wei @ x # (T,T) @ (B,T,C) == B x (T,T) @ (T,C) = (B,T,C) [pytorch will infer the correct shape]\n",
    "# show that xbow is correctly computed\n",
    "print(torch.allclose(xbow1, xbow2)) # used to check if two tensors are close enough to be considered equal\n",
    "\n",
    "# 3. the matrix way with softmax\n",
    "wei = torch.tril(torch.ones(T,T)) # (T,T)\n",
    "wei = wei.masked_fill(wei == 0, float('-inf')) # mask the upper triangular part\n",
    "wei = F.softmax(wei, dim=1) # (T,T)\n",
    "xbow3 = wei @ x\n",
    "print(torch.allclose(xbow1, xbow3))"
   ]
  },
  {
   "cell_type": "code",
   "execution_count": 57,
   "metadata": {},
   "outputs": [
    {
     "data": {
      "text/plain": [
       "torch.Size([8, 2])"
      ]
     },
     "execution_count": 57,
     "metadata": {},
     "output_type": "execute_result"
    }
   ],
   "source": [
    "# incorporate positional encoding into the model\n",
    "class BigramLanguageModel(nn.Module):\n",
    "\n",
    "    def __init__(self, vocab_size, block_size, n_embd):\n",
    "        super().__init__()\n",
    "        # each token directly reads off the logits for the next token from a lookup table\n",
    "        self.token_embedding_table = nn.Embedding(vocab_size, n_embd)\n",
    "        self.positional_embedding_table = nn.Embedding(block_size, n_embd)\n",
    "        self.lm_head = nn.Linear(n_embd, vocab_size)\n",
    "\n",
    "    def forward(self, idx, targets=None):\n",
    "\n",
    "        # idx and targets are both (B,T) tensor of integers\n",
    "        B, T = idx.shape\n",
    "        pos_embd = self.positional_embedding_table(torch.arange(T, device=idx.device)) # (T,n_embd)\n",
    "        # this is the embedded representation of the input, where idx is the input xb tensor\n",
    "        tok_embd = self.token_embedding_table(idx) # (B,T,n_embd)\n",
    "        embd = tok_embd + pos_embd # (B,T,n_embd), pytorch will broadcast pos_embd to (B,T,n_embd)\n",
    "        logits = self.lm_head(embd) # (B,T,C), C = vocab_size = number of classes\n",
    "\n",
    "        if targets is None:\n",
    "            loss = None\n",
    "        else:\n",
    "            B, T, C = logits.shape\n",
    "            logits = logits.view(B*T, C) # reshape due to cross-entropy\n",
    "            targets = targets.view(B*T) # reshape due to cross-entropy\n",
    "            loss = F.cross_entropy(logits, targets)\n",
    "\n",
    "        return logits, loss\n",
    "\n",
    "    def generate(self, idx, max_new_tokens): # to generate new tokens\n",
    "        # idx is (B, T) array of indices in the current context\n",
    "        for _ in range(max_new_tokens): # max_new_tokens is the maximum number of tokens to generate\n",
    "            # get the predictions\n",
    "            logits, _ = self(idx) # loss is none here\n",
    "            # focus only on the last time step\n",
    "            logits = logits[:, -1, :] # becomes (B, C)\n",
    "            # apply softmax to get probabilities for each class\n",
    "            probs = F.softmax(logits, dim=-1) # (B, C)\n",
    "            # sample from the distribution using the probabilities\n",
    "            idx_next = torch.multinomial(probs, num_samples=1) # (B, 1)\n",
    "            # append sampled index to the running sequence\n",
    "            idx = torch.cat((idx, idx_next), dim=1) # (B, T+1)\n",
    "        return idx\n"
   ]
  },
  {
   "cell_type": "code",
   "execution_count": 64,
   "metadata": {},
   "outputs": [],
   "source": [
    "torch.manual_seed(1337)\n",
    "B,T,C = 4,8,2\n",
    "x = torch.rand(B,T,C)\n",
    "# we want to use weighted average function as aggr(), weights are computed using self-attention\n",
    "xbow = torch.zeros(B,T,C) # bow = bag of words\n",
    "\n",
    "head_size = 16 # H\n",
    "key = nn.Linear(C, head_size, bias=False)\n",
    "query = nn.Linear(C, head_size, bias=False)\n",
    "value = nn.Linear(C, head_size, bias=False)\n",
    "\n",
    "k = key(x) # (B,T,H)\n",
    "q = query(x) # (B,T,H)\n",
    "v = value(x) # (B,T,H)\n",
    "\n",
    "wei = q @ k.transpose(-2, -1) * head_size**0.5 # (B,T,H) @ (B,H,T) = (B,T,T), normalzied by sqrt(H) to make variance of the dot product = 1, assuming the elements are iid gaussian with mean 0 variance 1\n",
    "tril = torch.tril(torch.ones(T,T)) # (T,T)\n",
    "wei = wei.masked_fill(tril == 0, float('-inf')) # mask the upper triangular part, used in decoder of transformer, encoders don't have this masking of future tokens\n",
    "wei = F.softmax(wei, dim=1) # (T,T)\n",
    "xbow = wei @ v\n",
    "\n",
    "# note this self-attention is applied across each batch element independently"
   ]
  },
  {
   "cell_type": "code",
   "execution_count": 65,
   "metadata": {},
   "outputs": [],
   "source": [
    "class Head(nn.Module): # this is one attention head\n",
    "    def __init__(self, head_size = head_size, C = C, block_size = block_size):\n",
    "        super().__init__()\n",
    "        self.key = nn.Linear(C, head_size, bias=False)\n",
    "        self.query = nn.Linear(C, head_size, bias=False)\n",
    "        self.value = nn.Linear(C, head_size, bias=False)\n",
    "        self.register_buffer(\"tril\", torch.tril(torch.ones(block_size, block_size)))\n",
    "    def forward(self, x):\n",
    "        B,T,C = x.shape\n",
    "        k = self.key(x)\n",
    "        q = self.query(x)\n",
    "        v = self.value(x)\n",
    "        wei = q @ k.transpose(-2, -1) * head_size**0.5\n",
    "        wei = wei.masked_fill(self.tril[:T, :T] == 0, float('-inf'))\n",
    "        wei = F.softmax(wei, dim=-1)\n",
    "        return wei @ v\n"
   ]
  },
  {
   "cell_type": "code",
   "execution_count": 73,
   "metadata": {},
   "outputs": [],
   "source": [
    "# incorporate self-attention into the model\n",
    "class BigramLanguageModel(nn.Module):\n",
    "\n",
    "    def __init__(self, vocab_size=65, head_size=16, C=32, block_size=8):\n",
    "        super().__init__()\n",
    "        # each token directly reads off the logits for the next token from a lookup table\n",
    "        self.token_embedding_table = nn.Embedding(vocab_size, C)\n",
    "        self.positional_embedding_table = nn.Embedding(block_size, C)\n",
    "        self.sa_head = Head(head_size=head_size, C = C, block_size = block_size) # self-attention head\n",
    "        self.lm_head = nn.Linear(C, vocab_size) # language model head\n",
    "\n",
    "    def forward(self, idx, targets=None):\n",
    "\n",
    "        # idx and targets are both (B,T) tensor of integers\n",
    "        B, T = idx.shape\n",
    "        pos_embd = self.positional_embedding_table(torch.arange(T, device=idx.device)) # (T,n_embd)\n",
    "        # this is the embedded representation of the input, where idx is the input xb tensor\n",
    "        tok_embd = self.token_embedding_table(idx) # (B,T,n_embd)\n",
    "        embd = tok_embd + pos_embd # (B,T,n_embd), pytorch will broadcast pos_embd to (B,T,n_embd), C = n_embd\n",
    "        embd = self.sa_head(embd) + embd # (B,T,n_embd), + embd is the residual connection\n",
    "        logits = self.lm_head(embd) # (B,T,C), C = vocab_size = number of classes\n",
    "\n",
    "        if targets is None:\n",
    "            loss = None\n",
    "        else:\n",
    "            B, T, C = logits.shape\n",
    "            logits = logits.view(B*T, C) # reshape due to cross-entropy\n",
    "            targets = targets.view(B*T) # reshape due to cross-entropy\n",
    "            loss = F.cross_entropy(logits, targets)\n",
    "\n",
    "        return logits, loss\n",
    "\n",
    "    def generate(self, idx, max_new_tokens): # to generate new tokens\n",
    "        # idx is (B, T) array of indices in the current context\n",
    "        for _ in range(max_new_tokens): # max_new_tokens is the maximum number of tokens to generate\n",
    "            # crop idx to the last block_size tokens\n",
    "            idx_cond = idx[:,-block_size:]\n",
    "            # get the predictions\n",
    "            logits, _ = self(idx_cond) # loss is none here\n",
    "            # focus only on the last time step\n",
    "            logits = logits[:, -1, :] # becomes (B, C)\n",
    "            # apply softmax to get probabilities for each class\n",
    "            probs = F.softmax(logits, dim=-1) # (B, C)\n",
    "            # sample from the distribution using the probabilities\n",
    "            idx_next = torch.multinomial(probs, num_samples=1) # (B, 1)\n",
    "            # append sampled index to the running sequence\n",
    "            idx = torch.cat((idx, idx_next), dim=1) # (B, T+1)\n",
    "        return idx\n"
   ]
  },
  {
   "cell_type": "code",
   "execution_count": 74,
   "metadata": {},
   "outputs": [
    {
     "name": "stdout",
     "output_type": "stream",
     "text": [
      "Iter 0, train loss = 4.6489, val loss = 4.6505\n",
      "Iter 500, train loss = 2.7390, val loss = 2.7815\n",
      "Iter 1000, train loss = 2.5380, val loss = 2.5592\n",
      "Iter 1500, train loss = 2.4580, val loss = 2.4811\n",
      "Iter 2000, train loss = 2.4088, val loss = 2.4340\n",
      "Iter 2500, train loss = 2.3807, val loss = 2.4131\n",
      "Iter 3000, train loss = 2.3586, val loss = 2.4046\n",
      "Iter 3500, train loss = 2.3463, val loss = 2.3829\n",
      "Iter 4000, train loss = 2.3306, val loss = 2.3628\n",
      "Iter 4500, train loss = 2.3449, val loss = 2.3733\n",
      "\n",
      "We! le isen.\n",
      "Whomee ton INGCHETWs onts the dos ou maithe latlintthens the the dol ere cksy of mall b\n"
     ]
    }
   ],
   "source": [
    "# bigram model training\n",
    "batch_size = 32\n",
    "block_size = 8\n",
    "head_size = 32\n",
    "n_embed = 32\n",
    "\n",
    "eval_interval = 500\n",
    "eval_iters = 200\n",
    "max_iters = 5000\n",
    "learning_rate = 1e-3\n",
    "torch.manual_seed(1337)\n",
    "\n",
    "model = BigramLanguageModel(vocab_size=vocab_size, head_size=head_size, C=n_embed, block_size=block_size)\n",
    "m = model.to(device)\n",
    "optimizer = torch.optim.AdamW(m.parameters(), lr=learning_rate)\n",
    "\n",
    "for iter in range(max_iters):\n",
    "    if iter % eval_interval == 0:\n",
    "        losses = estimate_loss()\n",
    "        print(f'Iter {iter}, train loss = {losses[\"train\"]:.4f}, val loss = {losses[\"val\"]:.4f}')\n",
    "\n",
    "    xb, yb = get_batch('train', batch_size, block_size)\n",
    "    logits, loss = m(xb, yb)\n",
    "    optimizer.zero_grad(set_to_none=True) # If the user requests zero_grad(set_to_none=True) followed by a backward pass, .grads are guaranteed to be None for params that did not receive a gradient. \n",
    "    loss.backward()\n",
    "    optimizer.step()\n",
    "\n",
    "# check the generated text after training\n",
    "example_x = torch.zeros((1, 1), dtype=torch.long, device = device)\n",
    "print(decoder(m.generate(idx = example_x, max_new_tokens=100)[0].tolist()))"
   ]
  },
  {
   "cell_type": "code",
   "execution_count": null,
   "metadata": {},
   "outputs": [],
   "source": [
    "# TODO\n",
    "# class MultiHead(nn.Module): # this is the multi-head attention\n",
    "#     def __init__(self, head_size = head_size, C = C, block_size = block_size, n_heads = 8):\n",
    "#         super().__init__()\n",
    "#         self.heads = nn.ModuleList([Head(head_size = head_size, C = C, block_size = block_size) for _ in range(n_heads)])\n",
    "#         self.lm_head = nn.Linear(C * n_heads, C) # linear layer to combine the heads\n",
    "#     def forward(self, x):\n",
    "#         return self.lm_head(torch.cat([head(x) for head in self.heads], dim=-1))"
   ]
  }
 ],
 "metadata": {
  "kernelspec": {
   "display_name": "Python 3 (ipykernel)",
   "language": "python",
   "name": "python3"
  },
  "language_info": {
   "codemirror_mode": {
    "name": "ipython",
    "version": 3
   },
   "file_extension": ".py",
   "mimetype": "text/x-python",
   "name": "python",
   "nbconvert_exporter": "python",
   "pygments_lexer": "ipython3",
   "version": "3.9.18"
  }
 },
 "nbformat": 4,
 "nbformat_minor": 2
}
