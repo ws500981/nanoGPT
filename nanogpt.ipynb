{
 "cells": [
  {
   "cell_type": "code",
   "execution_count": 2,
   "metadata": {},
   "outputs": [],
   "source": [
    "# !pip install torch numpy transformers datasets tiktoken wandb tqdm"
   ]
  },
  {
   "cell_type": "code",
   "execution_count": 3,
   "metadata": {},
   "outputs": [
    {
     "name": "stdout",
     "output_type": "stream",
     "text": [
      "Total number of characters = 1115394\n",
      "Total number of unique characters = 65\n",
      "Characters = \n",
      " !$&',-.3:;?ABCDEFGHIJKLMNOPQRSTUVWXYZabcdefghijklmnopqrstuvwxyz\n"
     ]
    }
   ],
   "source": [
    "# Loading training text data\n",
    "with open(\"nanogpt/input.txt\", \"r\", encoding='utf-8') as f:\n",
    "    text = f.read()\n",
    "print(f'Total number of characters = {len(text)}')\n",
    "chars = sorted(list(set(text)))\n",
    "vocab_size = len(chars)\n",
    "print(f'Total number of unique characters = {vocab_size}')\n",
    "print(f\"Characters = {''.join(chars)}\")"
   ]
  },
  {
   "cell_type": "code",
   "execution_count": 4,
   "metadata": {},
   "outputs": [],
   "source": [
    "# simple tokenizer 1\n",
    "stoi = {ch: i for i, ch in enumerate(chars)}\n",
    "itos = {i: ch for i, ch in enumerate(chars)}\n",
    "encoder1 = lambda x: [stoi[ch] for ch in x]\n",
    "decoder1 = lambda x: ''.join([itos[i] for i in x])"
   ]
  },
  {
   "cell_type": "code",
   "execution_count": 5,
   "metadata": {},
   "outputs": [
    {
     "name": "stdout",
     "output_type": "stream",
     "text": [
      "[46, 43, 50, 50, 53]\n",
      "hello\n"
     ]
    }
   ],
   "source": [
    "print(encoder1('hello'))\n",
    "print(decoder1(encoder1('hello')))"
   ]
  },
  {
   "cell_type": "code",
   "execution_count": 6,
   "metadata": {},
   "outputs": [],
   "source": [
    "# !pip install sentencepiece"
   ]
  },
  {
   "cell_type": "code",
   "execution_count": 8,
   "metadata": {},
   "outputs": [
    {
     "data": {
      "text/plain": [
       "True"
      ]
     },
     "execution_count": 8,
     "metadata": {},
     "output_type": "execute_result"
    }
   ],
   "source": [
    "# sentencepiece tokenizer 2\n",
    "import sentencepiece as spm\n",
    "params = ('--input=./nanogpt/input.txt ' '--model_prefix=spm ' '--vocab_size=1000 ')\n",
    "spm.SentencePieceTrainer.Train(params)\n",
    "sp = spm.SentencePieceProcessor()\n",
    "sp.Load('spm.model')\n",
    "\n"
   ]
  },
  {
   "cell_type": "code",
   "execution_count": 22,
   "metadata": {},
   "outputs": [
    {
     "name": "stdout",
     "output_type": "stream",
     "text": [
      "['▁He', 'll', 'o', '▁world', '.']\n",
      "[184, 65, 25, 427, 7]\n",
      "ter Toaaking:\n"
     ]
    }
   ],
   "source": [
    "print(sp.EncodeAsPieces('Hello world.'))\n",
    "print(sp.EncodeAsIds('Hello world.'))\n",
    "print(sp.DecodeIds([151, 88, 21, 887, 6]))"
   ]
  },
  {
   "cell_type": "code",
   "execution_count": 10,
   "metadata": {},
   "outputs": [],
   "source": [
    "# !pip install tiktoken"
   ]
  },
  {
   "cell_type": "code",
   "execution_count": 14,
   "metadata": {},
   "outputs": [
    {
     "data": {
      "text/plain": [
       "100277"
      ]
     },
     "execution_count": 14,
     "metadata": {},
     "output_type": "execute_result"
    }
   ],
   "source": [
    "# tiktoken tokenizer 3\n",
    "import tiktoken\n",
    "enc = tiktoken.get_encoding(\"cl100k_base\")\n",
    "enc.n_vocab"
   ]
  },
  {
   "cell_type": "code",
   "execution_count": 15,
   "metadata": {},
   "outputs": [
    {
     "name": "stdout",
     "output_type": "stream",
     "text": [
      "[15339, 1917]\n",
      "hello world\n"
     ]
    }
   ],
   "source": [
    "print(enc.encode(\"hello world\"))\n",
    "print(enc.decode(enc.encode(\"hello world\")))\n"
   ]
  },
  {
   "cell_type": "code",
   "execution_count": 16,
   "metadata": {},
   "outputs": [
    {
     "name": "stdout",
     "output_type": "stream",
     "text": [
      "[46, 43, 50, 50, 53]\n",
      "hello\n",
      "[184, 65, 25, 427, 7]\n",
      "ter Toaaking:\n",
      "[15339, 1917]\n",
      "hello world\n"
     ]
    }
   ],
   "source": [
    "# tokenizer 1\n",
    "print(encoder1('hello'))\n",
    "print(decoder1(encoder1('hello')))\n",
    "\n",
    "# tokenizer 2\n",
    "print(sp.EncodeAsIds('Hello world.'))\n",
    "print(sp.DecodeIds([151, 88, 21, 887, 6]))\n",
    "\n",
    "# tokenizer 3\n",
    "print(enc.encode(\"hello world\"))\n",
    "print(enc.decode(enc.encode(\"hello world\")))"
   ]
  },
  {
   "cell_type": "code",
   "execution_count": 22,
   "metadata": {},
   "outputs": [
    {
     "name": "stdout",
     "output_type": "stream",
     "text": [
      "Using simple tokenizer, there are 1115394 tokens, \n",
      " Using sentencepiece tokenizer, there are 407344 tokens, \n",
      " Using tiktoken tokenizer, there are 301829 tokens\n",
      "Simple tokenizer: tensor([18, 47, 56, 57, 58,  1, 15, 47, 58, 47, 64, 43, 52, 10,  0, 14, 43, 44,\n",
      "        53, 56, 43,  1, 61, 43,  1, 54, 56, 53, 41, 43, 43, 42,  1, 39, 52, 63,\n",
      "         1, 44, 59, 56, 58, 46, 43, 56,  6,  1, 46, 43, 39, 56]) \n",
      " First Citizen:\n",
      "Before we proceed any further, hear\n",
      "Sentencepiece tokenizer: tensor([298, 537,   6, 259, 280,  12,  81, 231, 107,  35, 384, 987,   3, 223,\n",
      "         33, 254,   7,  52,  65,   6,  78, 358,  21,  73,   3, 254,   7, 298,\n",
      "        537,   6, 205, 106,  91, 115,   5, 201, 167,   8, 752,  14, 414, 216,\n",
      "         14,  50, 190, 321,  26,  52,  65,   6]) \n",
      " First Citizen: Before we proceed any further, hear me speak. All: Speak, speak. First Citizen: You are all resolved rather to die than to famish? All:\n",
      "Tiktoken tokenizer: tensor([ 5451, 47317,   512, 10438,   584, 10570,   904,  4726,    11,  6865,\n",
      "          757,  6604,   382,  2460,   512, 96945,    11,  6604,   382,  5451,\n",
      "        47317,   512,  2675,   527,   682, 20250,  4856,   311,  2815,  1109,\n",
      "          311,  2138,   819,  1980,  2460,   512, 66494,    13, 20250,   382,\n",
      "         5451, 47317,   512,  5451,    11,   499,  1440,   356,  2192,   355]) \n",
      " First Citizen:\n",
      "Before we proceed any further, hear me speak.\n",
      "\n",
      "All:\n",
      "Speak, speak.\n",
      "\n",
      "First Citizen:\n",
      "You are all resolved rather to die than to famish?\n",
      "\n",
      "All:\n",
      "Resolved. resolved.\n",
      "\n",
      "First Citizen:\n",
      "First, you know Caius\n"
     ]
    }
   ],
   "source": [
    "import torch\n",
    "data1 = torch.tensor(encoder1(text),dtype=torch.long)\n",
    "data2 = torch.tensor(sp.EncodeAsIds(text),dtype=torch.long)\n",
    "data3 = torch.tensor(enc.encode(text),dtype=torch.long)\n",
    "print(f'Using simple tokenizer, there are {data1.shape[0]} tokens, \\n Using sentencepiece tokenizer, there are {data2.shape[0]} tokens, \\n Using tiktoken tokenizer, there are {data3.shape[0]} tokens')\n",
    "print(f'Simple tokenizer: {data1[:50]} \\n {decoder1(data1[:50].tolist())}')\n",
    "print(f'Sentencepiece tokenizer: {data2[:50]} \\n {sp.DecodeIds(data2[:50].tolist())}')\n",
    "print(f'Tiktoken tokenizer: {data3[:50]} \\n {enc.decode(data3[:50].tolist())}')"
   ]
  },
  {
   "cell_type": "code",
   "execution_count": null,
   "metadata": {},
   "outputs": [],
   "source": [
    "# train-test split\n",
    "n = int(0.8*len(data))\n",
    "train_data = data[:n]\n",
    "val_data = data[n:]"
   ]
  },
  {
   "cell_type": "code",
   "execution_count": null,
   "metadata": {},
   "outputs": [
    {
     "name": "stdout",
     "output_type": "stream",
     "text": [
      "context = tensor([18]), target = 47\n",
      "        = F,        = i\n",
      "context = tensor([18, 47]), target = 56\n",
      "        = Fi,        = r\n",
      "context = tensor([18, 47, 56]), target = 57\n",
      "        = Fir,        = s\n",
      "context = tensor([18, 47, 56, 57]), target = 58\n",
      "        = Firs,        = t\n",
      "context = tensor([18, 47, 56, 57, 58]), target = 1\n",
      "        = First,        =  \n",
      "context = tensor([18, 47, 56, 57, 58,  1]), target = 15\n",
      "        = First ,        = C\n",
      "context = tensor([18, 47, 56, 57, 58,  1, 15]), target = 47\n",
      "        = First C,        = i\n",
      "context = tensor([18, 47, 56, 57, 58,  1, 15, 47]), target = 58\n",
      "        = First Ci,        = t\n"
     ]
    }
   ],
   "source": [
    "block_size = 8\n",
    "# one example of input-target pair\n",
    "x = train_data[:block_size]\n",
    "y = train_data[1:block_size+1]\n",
    "for t in range(block_size):\n",
    "    context = x[:t+1]\n",
    "    target = y[t]\n",
    "    print(f'context = {context}, target = {target}')\n",
    "    print(f'        = {decoder(context.tolist())},        = {decoder([target.tolist()])}')"
   ]
  },
  {
   "cell_type": "code",
   "execution_count": null,
   "metadata": {},
   "outputs": [],
   "source": [
    "torch.manual_seed(1337)\n",
    "batch_size = 4\n",
    "block_size = 8\n",
    "\n",
    "def get_batch(data, batch_size=batch_size, block_size=block_size):\n",
    "    idx = torch.randint(0, data.size(0) - block_size, (batch_size,))\n",
    "    x = torch.stack([data[i:i+block_size] for i in idx])\n",
    "    y = torch.stack([data[i+1:i+block_size+1] for i in idx])\n",
    "    return x, y"
   ]
  },
  {
   "cell_type": "code",
   "execution_count": null,
   "metadata": {},
   "outputs": [
    {
     "name": "stdout",
     "output_type": "stream",
     "text": [
      "inputs:\n",
      "torch.Size([4, 8])\n",
      "tensor([[47, 57, 10,  1, 39, 52, 42,  1],\n",
      "        [59, 56,  1, 46, 43, 39, 56, 58],\n",
      "        [32, 46, 39, 58,  1, 39, 50, 61],\n",
      "        [26, 53, 58, 46, 47, 52, 45,  1]])\n",
      "targets:\n",
      "torch.Size([4, 8])\n",
      "tensor([[57, 10,  1, 39, 52, 42,  1, 50],\n",
      "        [56,  1, 46, 43, 39, 56, 58, 57],\n",
      "        [46, 39, 58,  1, 39, 50, 61, 39],\n",
      "        [53, 58, 46, 47, 52, 45,  1, 40]])\n",
      "----\n",
      "when input is [47] the target: 57\n",
      "when input is [47, 57] the target: 10\n",
      "when input is [47, 57, 10] the target: 1\n",
      "when input is [47, 57, 10, 1] the target: 39\n",
      "when input is [47, 57, 10, 1, 39] the target: 52\n",
      "when input is [47, 57, 10, 1, 39, 52] the target: 42\n",
      "when input is [47, 57, 10, 1, 39, 52, 42] the target: 1\n",
      "when input is [47, 57, 10, 1, 39, 52, 42, 1] the target: 50\n",
      "when input is [59] the target: 56\n",
      "when input is [59, 56] the target: 1\n",
      "when input is [59, 56, 1] the target: 46\n",
      "when input is [59, 56, 1, 46] the target: 43\n",
      "when input is [59, 56, 1, 46, 43] the target: 39\n",
      "when input is [59, 56, 1, 46, 43, 39] the target: 56\n",
      "when input is [59, 56, 1, 46, 43, 39, 56] the target: 58\n",
      "when input is [59, 56, 1, 46, 43, 39, 56, 58] the target: 57\n",
      "when input is [32] the target: 46\n",
      "when input is [32, 46] the target: 39\n",
      "when input is [32, 46, 39] the target: 58\n",
      "when input is [32, 46, 39, 58] the target: 1\n",
      "when input is [32, 46, 39, 58, 1] the target: 39\n",
      "when input is [32, 46, 39, 58, 1, 39] the target: 50\n",
      "when input is [32, 46, 39, 58, 1, 39, 50] the target: 61\n",
      "when input is [32, 46, 39, 58, 1, 39, 50, 61] the target: 39\n",
      "when input is [26] the target: 53\n",
      "when input is [26, 53] the target: 58\n",
      "when input is [26, 53, 58] the target: 46\n",
      "when input is [26, 53, 58, 46] the target: 47\n",
      "when input is [26, 53, 58, 46, 47] the target: 52\n",
      "when input is [26, 53, 58, 46, 47, 52] the target: 45\n",
      "when input is [26, 53, 58, 46, 47, 52, 45] the target: 1\n",
      "when input is [26, 53, 58, 46, 47, 52, 45, 1] the target: 40\n"
     ]
    }
   ],
   "source": [
    "xb, yb = get_batch(train_data)\n",
    "print('inputs:')\n",
    "print(xb.shape)\n",
    "print(xb) # our input to the transformer\n",
    "print('targets:')\n",
    "print(yb.shape)\n",
    "print(yb)\n",
    "\n",
    "print('----')\n",
    "\n",
    "for b in range(batch_size): # batch dimension\n",
    "    for t in range(block_size): # time dimension\n",
    "        context = xb[b, :t+1]\n",
    "        target = yb[b,t]\n",
    "        print(f\"when input is {context.tolist()} the target: {target}\")"
   ]
  },
  {
   "cell_type": "code",
   "execution_count": null,
   "metadata": {},
   "outputs": [
    {
     "name": "stdout",
     "output_type": "stream",
     "text": [
      "torch.Size([32, 65])\n",
      "tensor(4.7489, grad_fn=<NllLossBackward0>)\n",
      "\n",
      "Sr?qP-QWktXoL&jLDJgOLVz'RIoDqHdhsV&vLLxatjscMpwLERSPyao.qfzs$Ys$zF-w,;eEkzxjgCKFChs!iWW.ObzDnxA Ms$3\n"
     ]
    }
   ],
   "source": [
    "import torch.nn as nn\n",
    "from torch.nn import functional as F\n",
    "torch.manual_seed(1337)\n",
    "\n",
    "class BigramLanguageModel(nn.Module):\n",
    "\n",
    "    def __init__(self, vocab_size):\n",
    "        super().__init__()\n",
    "        # each token directly reads off the logits for the next token from a lookup table\n",
    "        self.token_embedding_table = nn.Embedding(vocab_size, vocab_size)\n",
    "\n",
    "    def forward(self, idx, targets=None):\n",
    "\n",
    "        # idx and targets are both (B,T) tensor of integers\n",
    "        # this is the embedded representation of the input, where idx is the input xb tensor\n",
    "        logits = self.token_embedding_table(idx) # (B,T,C), C = vocab_size = number of classes\n",
    "\n",
    "        if targets is None:\n",
    "            loss = None\n",
    "        else:\n",
    "            B, T, C = logits.shape\n",
    "            logits = logits.view(B*T, C) # reshape due to cross-entropy\n",
    "            targets = targets.view(B*T) # reshape due to cross-entropy\n",
    "            loss = F.cross_entropy(logits, targets)\n",
    "\n",
    "        return logits, loss\n",
    "\n",
    "    def generate(self, idx, max_new_tokens): # to generate new tokens\n",
    "        # idx is (B, T) array of indices in the current context\n",
    "        for _ in range(max_new_tokens): # max_new_tokens is the maximum number of tokens to generate\n",
    "            # get the predictions\n",
    "            logits, _ = self(idx) # loss is none here\n",
    "            # focus only on the last time step\n",
    "            logits = logits[:, -1, :] # becomes (B, C)\n",
    "            # apply softmax to get probabilities for each class\n",
    "            probs = F.softmax(logits, dim=-1) # (B, C)\n",
    "            # sample from the distribution using the probabilities\n",
    "            idx_next = torch.multinomial(probs, num_samples=1) # (B, 1)\n",
    "            # append sampled index to the running sequence\n",
    "            idx = torch.cat((idx, idx_next), dim=1) # (B, T+1)\n",
    "        return idx\n",
    "\n",
    "m = BigramLanguageModel(vocab_size)\n",
    "logits, loss = m(xb, yb)\n",
    "print(logits.shape)\n",
    "print(loss)\n",
    "\n",
    "# example training sample (B, 1)\n",
    "example_x = torch.zeros((batch_size, 1), dtype=torch.long)\n",
    "\n",
    "print(decoder(m.generate(idx = example_x, max_new_tokens=100)[0].tolist()))\n"
   ]
  },
  {
   "cell_type": "code",
   "execution_count": null,
   "metadata": {},
   "outputs": [],
   "source": [
    "optimizer = torch.optim.AdamW(m.parameters(), lr=0.001)"
   ]
  },
  {
   "cell_type": "code",
   "execution_count": null,
   "metadata": {},
   "outputs": [
    {
     "name": "stdout",
     "output_type": "stream",
     "text": [
      "2.3493263721466064\n"
     ]
    }
   ],
   "source": [
    "batch_size = 32\n",
    "block_size = 8\n",
    "\n",
    "for steps in range(10000):\n",
    "    xb, yb = get_batch(train_data, batch_size, block_size)\n",
    "\n",
    "    # evaluate the loss\n",
    "    logits, loss = m(xb, yb)\n",
    "    optimizer.zero_grad(set_to_none=True)\n",
    "    loss.backward()\n",
    "    optimizer.step()\n",
    "    \n",
    "print(loss.item())"
   ]
  },
  {
   "cell_type": "code",
   "execution_count": null,
   "metadata": {},
   "outputs": [
    {
     "name": "stdout",
     "output_type": "stream",
     "text": [
      "\n",
      "OUbit alavest lelisovewhakererertof q-arathothe Inthe cashit:\n",
      "NAn sh wim\n",
      "Y!\n",
      "Wece s.\n",
      "As hie, ous;\n",
      "HY,\n"
     ]
    }
   ],
   "source": [
    "example_x = torch.zeros((batch_size, 1), dtype=torch.long)\n",
    "print(decoder(m.generate(idx = example_x, max_new_tokens=100)[0].tolist()))"
   ]
  },
  {
   "cell_type": "code",
   "execution_count": null,
   "metadata": {},
   "outputs": [],
   "source": []
  }
 ],
 "metadata": {
  "kernelspec": {
   "display_name": "Python 3 (ipykernel)",
   "language": "python",
   "name": "python3"
  },
  "language_info": {
   "codemirror_mode": {
    "name": "ipython",
    "version": 3
   },
   "file_extension": ".py",
   "mimetype": "text/x-python",
   "name": "python",
   "nbconvert_exporter": "python",
   "pygments_lexer": "ipython3",
   "version": "3.9.18"
  }
 },
 "nbformat": 4,
 "nbformat_minor": 2
}
